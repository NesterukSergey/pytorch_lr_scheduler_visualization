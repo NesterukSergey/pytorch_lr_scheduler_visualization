{
 "cells": [
  {
   "cell_type": "code",
   "execution_count": 44,
   "metadata": {},
   "outputs": [],
   "source": [
    "import torch"
   ]
  },
  {
   "cell_type": "code",
   "execution_count": 144,
   "metadata": {},
   "outputs": [],
   "source": [
    "import matplotlib.pyplot as plt"
   ]
  },
  {
   "cell_type": "code",
   "execution_count": 100,
   "metadata": {},
   "outputs": [],
   "source": [
    "# optimizer.zero_grad()\n",
    "# optimizer.step()\n",
    "# scheduler.step()"
   ]
  },
  {
   "cell_type": "code",
   "execution_count": null,
   "metadata": {},
   "outputs": [],
   "source": []
  },
  {
   "cell_type": "code",
   "execution_count": 272,
   "metadata": {},
   "outputs": [],
   "source": [
    "class Scheduler:\n",
    "    def __init__(self, scheduler):\n",
    "        self.scheduler = scheduler\n",
    "        self.lr_history = []\n",
    "        self.name = self.scheduler.__class__.__name__\n",
    "    \n",
    "    def get_lr(self):\n",
    "        return self.scheduler.optimizer.state_dict()['param_groups'][0]['lr']\n",
    "    \n",
    "    def iterate(self, iterations):\n",
    "        self.lr_history.append(self.get_lr())\n",
    "        if self.name in ['ReduceLROnPlateau']:\n",
    "            for i in range(iterations):\n",
    "                self.scheduler.step(0) # simulate constant loss\n",
    "                self.lr_history.append(self.get_lr())\n",
    "        else:\n",
    "            for i in range(iterations):\n",
    "                self.scheduler.step()\n",
    "                self.lr_history.append(self.get_lr())"
   ]
  },
  {
   "cell_type": "code",
   "execution_count": 273,
   "metadata": {},
   "outputs": [],
   "source": [
    "class SchedulerBuilder:\n",
    "    def __init__(self):\n",
    "        self.max_iter = 10000\n",
    "        self.default_lr = 1e-3\n",
    "        \n",
    "        self.schedulers_params = self.get_schedulers_params()\n",
    "        self.supported_schedulers = self.get_supported_schedulers()\n",
    "        \n",
    "    def get_schedulers_params(self):\n",
    "        return {\n",
    "            'CosineAnnealingLR': [\n",
    "                {\n",
    "                    'param': 'T_max',\n",
    "                    'type': 'int',\n",
    "                    'min': 1,\n",
    "                    'default': self.max_iter\n",
    "                },\n",
    "                {\n",
    "                    'param': 'eta_min ',\n",
    "                    'type': 'float',\n",
    "                    'min': 0.0,\n",
    "                    'max': 1.0,\n",
    "                    'default': 0.0\n",
    "                },\n",
    "                {\n",
    "                    'param': 'last_epoch',\n",
    "                    'type': 'int',\n",
    "                    'min': -1,\n",
    "                    'max': self.max_iter,\n",
    "                    'default': -1\n",
    "                },\n",
    "            ],\n",
    "#             'CyclicLR': [\n",
    "#                 {\n",
    "#                     'param': 'base_lr',\n",
    "#                     'type': 'float',\n",
    "#                     'min':0.0,\n",
    "#                     'max': 1.0,\n",
    "#                     'default': self.default_lr\n",
    "#                 },\n",
    "#                 {\n",
    "#                     'param': 'max_lr',\n",
    "#                     'type': 'float',\n",
    "#                     'min':0.0,\n",
    "#                     'max': 1.0,\n",
    "#                     'default': 1.0\n",
    "#                 },\n",
    "#                 {\n",
    "#                     'param': 'step_size_up',\n",
    "#                     'type': 'int',\n",
    "#                     'min': 1,\n",
    "#                     'max': self.max_iter,\n",
    "#                     'default': 2000\n",
    "#                 },\n",
    "#                 {\n",
    "#                     'param': 'step_size_down',\n",
    "#                     'type': 'int',\n",
    "#                     'min': 1,\n",
    "#                     'max': self.max_iter,\n",
    "#                     'default': 2000\n",
    "#                 },\n",
    "#                 {\n",
    "#                     'param': 'mode',\n",
    "#                     'type': 'str',\n",
    "#                     'optioms': ['triangular', 'triangular2', 'exp_range'],\n",
    "#                     'default': 'triangular'\n",
    "#                 },\n",
    "#                 {\n",
    "#                     'param': 'gamma',\n",
    "#                     'type': 'float',\n",
    "#                     'min':0.0,\n",
    "#                     'max': 1.0,\n",
    "#                     'default': 1.0\n",
    "#                 },\n",
    "#                 {\n",
    "#                     'param': 'base_momentum',\n",
    "#                     'type': 'float',\n",
    "#                     'min':0.0,\n",
    "#                     'max': 1.0,\n",
    "#                     'default': 0.8\n",
    "#                 },\n",
    "#                 {\n",
    "#                     'param': 'max_momentum',\n",
    "#                     'type': 'float',\n",
    "#                     'min':0.0,\n",
    "#                     'max': 1.0,\n",
    "#                     'default': 0.9\n",
    "#                 },\n",
    "#                 {\n",
    "#                     'param': 'last_epoch',\n",
    "#                     'type': 'int',\n",
    "#                     'min': -1,\n",
    "#                     'max': self.max_iter,\n",
    "#                     'default': -1\n",
    "#                 },\n",
    "                \n",
    "#             ],\n",
    "            'ReduceLROnPlateau': [\n",
    "                {\n",
    "                    'param': 'factor',\n",
    "                    'type': 'float',\n",
    "                    'min':0.0,\n",
    "                    'max': 1.0,\n",
    "                    'default': 0.1\n",
    "                },\n",
    "                {\n",
    "                    'param': 'patience',\n",
    "                    'type': 'int',\n",
    "                    'min': 0,\n",
    "                    'max': self.max_iter,\n",
    "                    'default': 10\n",
    "                },\n",
    "                {\n",
    "                    'param': 'min_lr',\n",
    "                    'type': 'float',\n",
    "                    'min':0.0,\n",
    "                    'max': 1.0,\n",
    "                    'default': 0.0\n",
    "                },\n",
    "                {\n",
    "                    'param': 'eps',\n",
    "                    'type': 'float',\n",
    "                    'min':0.0,\n",
    "                    'max': 1.0,\n",
    "                    'default': 1e-8\n",
    "                },\n",
    "            ],\n",
    "            'ExponentialLR': [\n",
    "                {\n",
    "                    'param': 'gamma',\n",
    "                    'type': 'float',\n",
    "                    'min':0.0,\n",
    "                    'max': 1.0,\n",
    "                    'default': 0.9\n",
    "                },\n",
    "                {\n",
    "                    'param': 'last_epoch',\n",
    "                    'type': 'int',\n",
    "                    'min': -1,\n",
    "                    'max': self.max_iter,\n",
    "                    'default': -1\n",
    "                },\n",
    "            ],\n",
    "            'MultiStepLR': [\n",
    "                {\n",
    "                    'param': 'milestones',\n",
    "                    'type': 'list',\n",
    "                    'default': [30, 80]\n",
    "                },\n",
    "                {\n",
    "                    'param': 'gamma',\n",
    "                    'type': 'float',\n",
    "                    'min':0.0,\n",
    "                    'max': 1.0,\n",
    "                    'default': 0.1\n",
    "                },\n",
    "                {\n",
    "                    'param': 'last_epoch',\n",
    "                    'type': 'int',\n",
    "                    'min': -1,\n",
    "                    'max': self.max_iter,\n",
    "                    'default': -1\n",
    "                },\n",
    "            ],\n",
    "#             'OneCycleLR': [\n",
    "#                 {\n",
    "#                     'param': 'max_lr',\n",
    "#                     'type': 'float',\n",
    "#                     'min':0.0,\n",
    "#                     'max': 1.0,\n",
    "#                     'default': 1.0\n",
    "#                 },\n",
    "#                 {\n",
    "#                     'param': 'total_steps',\n",
    "#                     'type': 'int',\n",
    "#                     'min': 0,\n",
    "#                     'max': self.max_iter,\n",
    "#                     'default': 1000\n",
    "#                 },\n",
    "#                 {\n",
    "#                     'param': 'pct_start',\n",
    "#                     'type': 'float',\n",
    "#                     'min':0.1,\n",
    "#                     'max': 0.9,\n",
    "#                     'default': 0.3\n",
    "#                 },\n",
    "# #                 {\n",
    "# #                     'param': 'anneal_strategy',\n",
    "# #                     'type': 'str',\n",
    "# #                     'optioms': ['cos', 'linear'],\n",
    "# #                     'default': 'cos'\n",
    "# #                 },\n",
    "#                 {\n",
    "#                     'param': 'base_momentum',\n",
    "#                     'type': 'float',\n",
    "#                     'min':0.0,\n",
    "#                     'max': 1.0,\n",
    "#                     'default': 0.85\n",
    "#                 },\n",
    "#                 {\n",
    "#                     'param': 'max_momentum',\n",
    "#                     'type': 'float',\n",
    "#                     'min':0.0,\n",
    "#                     'max': 1.0,\n",
    "#                     'default': 0.95\n",
    "#                 },\n",
    "#                 {\n",
    "#                     'param': 'div_factor',\n",
    "#                     'type': 'float',\n",
    "#                     'min':0.0,\n",
    "#                     'max': 1.0,\n",
    "#                     'default': 1e-4\n",
    "#                 },\n",
    "#                 {\n",
    "#                     'param': 'last_epoch',\n",
    "#                     'type': 'int',\n",
    "#                     'min': -1,\n",
    "#                     'max': self.max_iter,\n",
    "#                     'default': -1\n",
    "#                 },\n",
    "                \n",
    "#             ],\n",
    "            'StepLR': [\n",
    "                {\n",
    "                    'param': 'step_size',\n",
    "                    'type': 'int',\n",
    "                    'min': 1,\n",
    "                    'max': self.max_iter,\n",
    "                    'default': 5\n",
    "                },\n",
    "                {\n",
    "                    'param': 'gamma',\n",
    "                    'type': 'float',\n",
    "                    'min':0.0,\n",
    "                    'max': 1.0,\n",
    "                    'default': 0.1\n",
    "                },\n",
    "                {\n",
    "                    'param': 'last_epoch',\n",
    "                    'type': 'int',\n",
    "                    'min': -1,\n",
    "                    'max': self.max_iter,\n",
    "                    'default': -1\n",
    "                },\n",
    "            ],\n",
    "        }\n",
    "    \n",
    "    def get_supported_schedulers(self):\n",
    "        return list(self.schedulers_params.keys()) \n",
    "    \n",
    "    def check_scheduler_name(self, name):\n",
    "        if name not in self.supported_schedulers:\n",
    "            raise Exception('This scheduler is not supported. Pick one of:', self.supported_schedulers)\n",
    "    \n",
    "    def get_scheduler_params(self, name):\n",
    "        self.check_scheduler_name(name)        \n",
    "        return self.schedulers_params[name]\n",
    "    \n",
    "    def parse_params(self, obj):\n",
    "        s = ''\n",
    "        for i in obj.keys():\n",
    "            s += i + '=' + str(obj[i]) + ','\n",
    "        \n",
    "        return s[:-1]\n",
    "        \n",
    "    def get_scheduler(self, name, params):\n",
    "        self.check_scheduler_name(name)\n",
    "        model = torch.nn.Linear(1, 1) # dummmy model\n",
    "        optimizer = torch.optim.Adam(model.parameters()) # dummy optimizer\n",
    "        \n",
    "        params = self.parse_params(params)\n",
    "        d = {'torch': torch,\n",
    "            'optimizer': optimizer}\n",
    "        code = 'scheduler = torch.optim.lr_scheduler.{}(optimizer, {})'.format(name, params)        \n",
    "        exec(code, d)\n",
    "        scheduler = d['scheduler']\n",
    "                \n",
    "        return Scheduler(scheduler)\n",
    "        "
   ]
  },
  {
   "cell_type": "code",
   "execution_count": null,
   "metadata": {},
   "outputs": [],
   "source": []
  },
  {
   "cell_type": "code",
   "execution_count": null,
   "metadata": {},
   "outputs": [],
   "source": []
  },
  {
   "cell_type": "code",
   "execution_count": null,
   "metadata": {},
   "outputs": [],
   "source": []
  },
  {
   "cell_type": "code",
   "execution_count": 284,
   "metadata": {},
   "outputs": [],
   "source": [
    "def test_all_default(iterations=100):\n",
    "    sched_build = SchedulerBuilder()\n",
    "    for scheduler_name in sched_build.supported_schedulers:\n",
    "        print(scheduler_name)\n",
    "        params = sched_build.get_schedulers_params()[scheduler_name]\n",
    "        default_params = {}\n",
    "        for param in params:\n",
    "            default_params[param['param']] = param['default']\n",
    "            \n",
    "#         print(default_params)\n",
    "        scheduler = sched_build.get_scheduler(scheduler_name, default_params)\n",
    "        scheduler.iterate(100)\n",
    "        plt.plot(range(len(scheduler.lr_history)), scheduler.lr_history)\n",
    "        plt.show()"
   ]
  },
  {
   "cell_type": "code",
   "execution_count": 285,
   "metadata": {},
   "outputs": [
    {
     "name": "stdout",
     "output_type": "stream",
     "text": [
      "CosineAnnealingLR\n"
     ]
    },
    {
     "name": "stderr",
     "output_type": "stream",
     "text": [
      "/home/sergey/.local/lib/python3.7/site-packages/torch/optim/lr_scheduler.py:100: UserWarning: Detected call of `lr_scheduler.step()` before `optimizer.step()`. In PyTorch 1.1.0 and later, you should call them in the opposite order: `optimizer.step()` before `lr_scheduler.step()`.  Failure to do this will result in PyTorch skipping the first value of the learning rate schedule.See more details at https://pytorch.org/docs/stable/optim.html#how-to-adjust-learning-rate\n",
      "  \"https://pytorch.org/docs/stable/optim.html#how-to-adjust-learning-rate\", UserWarning)\n"
     ]
    },
    {
     "data": {
      "image/png": "[encoded data removed]",
      "text/plain": [
       "<Figure size 432x288 with 1 Axes>"
      ]
     },
     "metadata": {
      "needs_background": "light"
     },
     "output_type": "display_data"
    },
    {
     "name": "stdout",
     "output_type": "stream",
     "text": [
      "ReduceLROnPlateau\n"
     ]
    },
    {
     "data": {
      "image/png": "[encoded data removed]",
      "text/plain": [
       "<Figure size 432x288 with 1 Axes>"
      ]
     },
     "metadata": {
      "needs_background": "light"
     },
     "output_type": "display_data"
    },
    {
     "name": "stdout",
     "output_type": "stream",
     "text": [
      "ExponentialLR\n"
     ]
    },
    {
     "name": "stderr",
     "output_type": "stream",
     "text": [
      "/home/sergey/.local/lib/python3.7/site-packages/torch/optim/lr_scheduler.py:100: UserWarning: Detected call of `lr_scheduler.step()` before `optimizer.step()`. In PyTorch 1.1.0 and later, you should call them in the opposite order: `optimizer.step()` before `lr_scheduler.step()`.  Failure to do this will result in PyTorch skipping the first value of the learning rate schedule.See more details at https://pytorch.org/docs/stable/optim.html#how-to-adjust-learning-rate\n",
      "  \"https://pytorch.org/docs/stable/optim.html#how-to-adjust-learning-rate\", UserWarning)\n"
     ]
    },
    {
     "data": {
      "image/png": "[encoded data removed]",
      "text/plain": [
       "<Figure size 432x288 with 1 Axes>"
      ]
     },
     "metadata": {
      "needs_background": "light"
     },
     "output_type": "display_data"
    },
    {
     "name": "stdout",
     "output_type": "stream",
     "text": [
      "MultiStepLR\n"
     ]
    },
    {
     "name": "stderr",
     "output_type": "stream",
     "text": [
      "/home/sergey/.local/lib/python3.7/site-packages/torch/optim/lr_scheduler.py:100: UserWarning: Detected call of `lr_scheduler.step()` before `optimizer.step()`. In PyTorch 1.1.0 and later, you should call them in the opposite order: `optimizer.step()` before `lr_scheduler.step()`.  Failure to do this will result in PyTorch skipping the first value of the learning rate schedule.See more details at https://pytorch.org/docs/stable/optim.html#how-to-adjust-learning-rate\n",
      "  \"https://pytorch.org/docs/stable/optim.html#how-to-adjust-learning-rate\", UserWarning)\n"
     ]
    },
    {
     "data": {
      "image/png": "[encoded data removed]",
      "text/plain": [
       "<Figure size 432x288 with 1 Axes>"
      ]
     },
     "metadata": {
      "needs_background": "light"
     },
     "output_type": "display_data"
    },
    {
     "name": "stdout",
     "output_type": "stream",
     "text": [
      "StepLR\n"
     ]
    },
    {
     "name": "stderr",
     "output_type": "stream",
     "text": [
      "/home/sergey/.local/lib/python3.7/site-packages/torch/optim/lr_scheduler.py:100: UserWarning: Detected call of `lr_scheduler.step()` before `optimizer.step()`. In PyTorch 1.1.0 and later, you should call them in the opposite order: `optimizer.step()` before `lr_scheduler.step()`.  Failure to do this will result in PyTorch skipping the first value of the learning rate schedule.See more details at https://pytorch.org/docs/stable/optim.html#how-to-adjust-learning-rate\n",
      "  \"https://pytorch.org/docs/stable/optim.html#how-to-adjust-learning-rate\", UserWarning)\n"
     ]
    },
    {
     "data": {
      "image/png": "[encoded data removed]",
      "text/plain": [
       "<Figure size 432x288 with 1 Axes>"
      ]
     },
     "metadata": {
      "needs_background": "light"
     },
     "output_type": "display_data"
    }
   ],
   "source": [
    "test_all_default()"
   ]
  },
  {
   "cell_type": "code",
   "execution_count": null,
   "metadata": {},
   "outputs": [],
   "source": []
  },
  {
   "cell_type": "code",
   "execution_count": null,
   "metadata": {},
   "outputs": [],
   "source": []
  }
 ],
 "metadata": {
  "kernelspec": {
   "display_name": "Python 3",
   "language": "python",
   "name": "python3"
  },
  "language_info": {
   "codemirror_mode": {
    "name": "ipython",
    "version": 3
   },
   "file_extension": ".py",
   "mimetype": "text/x-python",
   "name": "python",
   "nbconvert_exporter": "python",
   "pygments_lexer": "ipython3",
   "version": "3.7.4"
  }
 },
 "nbformat": 4,
 "nbformat_minor": 4
}
